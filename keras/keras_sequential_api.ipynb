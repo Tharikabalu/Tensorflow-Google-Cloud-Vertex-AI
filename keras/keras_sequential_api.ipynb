{
 "cells": [
  {
   "cell_type": "markdown",
   "metadata": {},
   "source": [
    "# Introducing the Keras Sequential API on Vertex AI Platform"
   ]
  },
  {
   "cell_type": "markdown",
   "metadata": {},
   "source": [
    "**Learning objectives**\n",
    "  1. Build a DNN model using the Keras Sequential API\n",
    "  1. Learn how to use feature columns in a Keras model\n",
    "  1. Learn how to train a model with Keras\n",
    "  1. Learn how to save/load, and deploy a Keras model on GCP\n",
    "  1. Learn how to deploy the Model to Vertex AI and make predictions with the Keras model"
   ]
  },
  {
   "cell_type": "markdown",
   "metadata": {},
   "source": [
    "## Introduction"
   ]
  },
  {
   "cell_type": "markdown",
   "metadata": {},
   "source": [
    "The [Keras sequential API](https://keras.io/models/sequential/) allows you to create Tensorflow models layer-by-layer. This is useful for building most kinds of machine learning models but it does not allow you to create models that share layers, re-use layers or have multiple inputs or outputs. \n",
    "\n",
    "In this lab, we'll see how to build a simple deep neural network model using the Keras sequential api and feature columns. Once we have trained our model, we will deploy it using Vertex AI and see how to call our model for online prediciton."
   ]
  },
  {
   "cell_type": "code",
   "execution_count": 3,
   "metadata": {
    "tags": []
   },
   "outputs": [],
   "source": [
    "import datetime\n",
    "import os\n",
    "import shutil\n",
    "\n",
    "import numpy as np\n",
    "import pandas as pd\n",
    "import tensorflow as tf\n",
    "from google.cloud import aiplatform\n",
    "from matplotlib import pyplot as plt\n",
    "from tensorflow import keras\n",
    "from tensorflow.keras.callbacks import TensorBoard\n",
    "from tensorflow.keras.layers import Dense\n",
    "from tensorflow.keras.models import Sequential"
   ]
  },
  {
   "cell_type": "markdown",
   "metadata": {},
   "source": [
    "## Load raw data"
   ]
  },
  {
   "cell_type": "markdown",
   "metadata": {},
   "source": [
    "We will use the taxifare dataset, using the CSV files that we created in the first notebook of this sequence. Those files have been saved into `../data`."
   ]
  },
  {
   "cell_type": "code",
   "execution_count": 6,
   "metadata": {
    "tags": []
   },
   "outputs": [
    {
     "name": "stdout",
     "output_type": "stream",
     "text": [
      "-rw-r--r-- 1 jupyter jupyter  123590 Feb 10 12:06 ../data/taxi-test.csv\n",
      "-rw-r--r-- 1 jupyter jupyter 2186310 Feb 10 12:06 ../data/taxi-traffic-test.csv\n",
      "-rw-r--r-- 1 jupyter jupyter 9713118 Feb 10 12:06 ../data/taxi-traffic-train.csv\n",
      "-rw-r--r-- 1 jupyter jupyter 2036826 Feb 10 12:06 ../data/taxi-traffic-valid.csv\n",
      "-rw-r--r-- 1 jupyter jupyter  579055 Feb 10 12:06 ../data/taxi-train.csv\n",
      "-rw-r--r-- 1 jupyter jupyter  123114 Feb 10 12:06 ../data/taxi-valid.csv\n"
     ]
    }
   ],
   "source": [
    "!ls -l ../data/*.csv"
   ]
  },
  {
   "cell_type": "markdown",
   "metadata": {},
   "source": [
    "## Use tf.data to read the CSV files"
   ]
  },
  {
   "cell_type": "markdown",
   "metadata": {},
   "source": [
    "We wrote these functions for reading data from the csv files above in the [previous notebook](./2a_dataset_api.ipynb)."
   ]
  },
  {
   "cell_type": "code",
   "execution_count": 8,
   "metadata": {
    "tags": []
   },
   "outputs": [],
   "source": [
    "CSV_COLUMNS = [\n",
    "    \"fare_amount\",\n",
    "    \"pickup_datetime\",\n",
    "    \"pickup_longitude\",\n",
    "    \"pickup_latitude\",\n",
    "    \"dropoff_longitude\",\n",
    "    \"dropoff_latitude\",\n",
    "    \"passenger_count\",\n",
    "    \"key\",\n",
    "]\n",
    "LABEL_COLUMN = \"fare_amount\"\n",
    "DEFAULTS = [[0.0], [\"na\"], [0.0], [0.0], [0.0], [0.0], [0.0], [\"na\"]]\n",
    "UNWANTED_COLS = [\"pickup_datetime\", \"key\"]\n",
    "\n",
    "\n",
    "def features_and_labels(row_data):\n",
    "    label = row_data.pop(LABEL_COLUMN)\n",
    "    features = row_data\n",
    "\n",
    "    for unwanted_col in UNWANTED_COLS:\n",
    "        features.pop(unwanted_col)\n",
    "\n",
    "    return features, label\n",
    "\n",
    "\n",
    "def create_dataset(pattern, batch_size=1, mode=\"eval\"):\n",
    "    dataset = tf.data.experimental.make_csv_dataset(\n",
    "        pattern, batch_size, CSV_COLUMNS, DEFAULTS\n",
    "    )\n",
    "\n",
    "    dataset = dataset.map(features_and_labels)\n",
    "\n",
    "    if mode == \"train\":\n",
    "        dataset = dataset.shuffle(buffer_size=1000).repeat()\n",
    "\n",
    "    # take advantage of multi-threading; 1=AUTOTUNE\n",
    "    dataset = dataset.prefetch(1)\n",
    "    return dataset"
   ]
  },
  {
   "cell_type": "markdown",
   "metadata": {},
   "source": [
    "## Build a simple keras DNN model"
   ]
  },
  {
   "cell_type": "markdown",
   "metadata": {},
   "source": [
    "We will use feature columns to connect our raw data to our keras DNN model. Feature columns make it easy to perform common types of feature engineering on your raw data. For example, you can one-hot encode categorical data, create feature crosses, embeddings and more. We'll cover these in more detail later in the course, but if you want to a sneak peak browse the official TensorFlow [feature columns guide](https://www.tensorflow.org/guide/feature_columns).\n",
    "\n",
    "In our case we won't do any feature engineering. However, we still need to create a list of feature columns to specify the numeric values which will be passed on to our model. To do this, we use `tf.feature_column.numeric_column()`\n",
    "\n",
    "We use a python dictionary comprehension to create the feature columns for our model, which is just an elegant alternative to a for loop.\n",
    "\n",
    "**Lab Task #1:** Create a feature column dictionary that we will use when building our deep neural network below. The keys should be the element of the `INPUT_COLS` list, while the values should be numeric feature columns."
   ]
  },
  {
   "cell_type": "code",
   "execution_count": 9,
   "metadata": {
    "tags": []
   },
   "outputs": [],
   "source": [
    "INPUT_COLS = [\n",
    "    \"pickup_longitude\",\n",
    "    \"pickup_latitude\",\n",
    "    \"dropoff_longitude\",\n",
    "    \"dropoff_latitude\",\n",
    "    \"passenger_count\",\n",
    "]\n",
    "\n",
    "feature_columns = {\n",
    "    colname: tf.feature_column.numeric_column(colname) for colname in INPUT_COLS\n",
    "}"
   ]
  },
  {
   "cell_type": "markdown",
   "metadata": {},
   "source": [
    "Next, we create the DNN model. The Sequential model is a linear stack of layers and when building a model using the Sequential API, you configure each layer of the model in turn. Once all the layers have been added, you compile the model.\n",
    "\n",
    "Create a deep neural network using Keras's Sequential API. In the cell below, use the `tf.keras.layers` library to create all the layers for your deep neural network."
   ]
  },
  {
   "cell_type": "code",
   "execution_count": 10,
   "metadata": {
    "tags": []
   },
   "outputs": [
    {
     "name": "stderr",
     "output_type": "stream",
     "text": [
      "2025-02-10 12:11:46.109548: W tensorflow/compiler/xla/stream_executor/platform/default/dso_loader.cc:64] Could not load dynamic library 'libcuda.so.1'; dlerror: libcuda.so.1: cannot open shared object file: No such file or directory; LD_LIBRARY_PATH: /usr/local/cuda/lib64:/usr/local/nccl2/lib:/usr/local/cuda/extras/CUPTI/lib64:/usr/lib/x86_64-linux-gnu/:/opt/conda/lib\n",
      "2025-02-10 12:11:46.110497: W tensorflow/compiler/xla/stream_executor/cuda/cuda_driver.cc:265] failed call to cuInit: UNKNOWN ERROR (303)\n",
      "2025-02-10 12:11:46.110550: I tensorflow/compiler/xla/stream_executor/cuda/cuda_diagnostics.cc:156] kernel driver does not appear to be running on this host (lab-workbench): /proc/driver/nvidia/version does not exist\n",
      "2025-02-10 12:11:46.112275: I tensorflow/core/platform/cpu_feature_guard.cc:193] This TensorFlow binary is optimized with oneAPI Deep Neural Network Library (oneDNN) to use the following CPU instructions in performance-critical operations:  AVX2 FMA\n",
      "To enable them in other operations, rebuild TensorFlow with the appropriate compiler flags.\n"
     ]
    }
   ],
   "source": [
    "model = Sequential(\n",
    "    [\n",
    "        DenseFeatures(feature_columns=feature_columns.values()),\n",
    "        Dense(units=32, activation=\"relu\", name=\"h1\"),\n",
    "        Dense(units=8, activation=\"relu\", name=\"h2\"),\n",
    "        Dense(units=1, activation=\"linear\", name=\"output\"),\n",
    "    ]\n",
    ")"
   ]
  },
  {
   "cell_type": "markdown",
   "metadata": {},
   "source": [
    "Next, to prepare the model for training, you must configure the learning process. This is done using the compile method. The compile method takes three arguments:\n",
    "\n",
    "* An optimizer. This could be the string identifier of an existing optimizer (such as `rmsprop` or `adagrad`), or an instance of the [Optimizer class](https://www.tensorflow.org/versions/r2.0/api_docs/python/tf/keras/optimizers).\n",
    "* A loss function. This is the objective that the model will try to minimize. It can be the string identifier of an existing loss function from the [Losses class](https://www.tensorflow.org/versions/r2.0/api_docs/python/tf/keras/losses) (such as categorical_crossentropy or mse), or it can be a custom objective function.\n",
    "* A list of metrics. For any machine learning problem you will want a set of metrics to evaluate your model. A metric could be the string identifier of an existing metric or a custom metric function.\n",
    "\n",
    "We will add an additional custom metric called `rmse` to our list of metrics which will return the root mean square error.\n",
    "\n",
    "**Lab Task #2b:** Compile the model you created above. Create a custom loss function called `rmse` which computes the root mean squared error between `y_true` and `y_pred`. Pass this function to the model as an evaluation metric. "
   ]
  },
  {
   "cell_type": "code",
   "execution_count": 11,
   "metadata": {
    "tags": []
   },
   "outputs": [],
   "source": [
    "def rmse(y_true, y_pred):\n",
    "    return tf.sqrt(tf.reduce_mean(tf.square(y_pred - y_true)))\n",
    "model.compile(optimizer=\"adam\", loss=\"mse\", metrics=[rmse, \"mse\"])"
   ]
  },
  {
   "cell_type": "markdown",
   "metadata": {},
   "source": [
    "## Train the model"
   ]
  },
  {
   "cell_type": "markdown",
   "metadata": {},
   "source": [
    "To train your model, Keras provides three functions that can be used:\n",
    " 1. `.fit()` for training a model for a fixed number of epochs (iterations on a dataset).\n",
    " 2. `.fit_generator()` for training a model on data yielded batch-by-batch by a generator\n",
    " 3. `.train_on_batch()` runs a single gradient update on a single batch of data. \n",
    " \n",
    "The `.fit()` function works well for small datasets which can fit entirely in memory. However, for large datasets (or if you need to manipulate the training data on the fly via data augmentation, etc) you will need to use `.fit_generator()` instead. The `.train_on_batch()` method is for more fine-grained control over training and accepts only a single batch of data.\n",
    "\n",
    "The taxifare dataset we sampled is small enough to fit in memory, so can we could use `.fit` to train our model. Our `create_dataset` function above generates batches of training examples, so we could also use `.fit_generator`. In fact, when calling `.fit` the method inspects the data, and if it's a generator (as our dataset is) it will invoke automatically `.fit_generator` for training. \n",
    "\n",
    "We start by setting up some parameters for our training job and create the data generators for the training and validation data.\n",
    "\n",
    "We refer you the the blog post [ML Design Pattern #3: Virtual Epochs](https://medium.com/google-cloud/ml-design-pattern-3-virtual-epochs-f842296de730) for further details on why express the training in terms of `NUM_TRAIN_EXAMPLES` and `NUM_EVALS` and why, in this training code, the number of epochs is really equal to the number of evaluations we perform."
   ]
  },
  {
   "cell_type": "code",
   "execution_count": 12,
   "metadata": {
    "tags": []
   },
   "outputs": [],
   "source": [
    "TRAIN_BATCH_SIZE = 1000\n",
    "NUM_TRAIN_EXAMPLES = 10000 * 5  # training dataset will repeat, wrap around\n",
    "NUM_EVALS = 50  # how many times to evaluate\n",
    "NUM_EVAL_EXAMPLES = 10000  # enough to get a reasonable sample\n",
    "\n",
    "trainds = create_dataset(\n",
    "    pattern=\"../data/taxi-train*\", batch_size=TRAIN_BATCH_SIZE, mode=\"train\"\n",
    ")\n",
    "\n",
    "evalds = create_dataset(\n",
    "    pattern=\"../data/taxi-valid*\", batch_size=1000, mode=\"eval\"\n",
    ").take(NUM_EVAL_EXAMPLES // 1000)"
   ]
  },
  {
   "cell_type": "markdown",
   "metadata": {},
   "source": [
    "There are various arguments you can set when calling the [.fit method](https://www.tensorflow.org/versions/r2.0/api_docs/python/tf/keras/Model#fit). Here `x` specifies the input data which in our case is a `tf.data` dataset returning a tuple of (inputs, targets). The `steps_per_epoch` parameter is used to mark the end of training for a single epoch. Here we are training for NUM_EVALS epochs. Lastly, for the `callback` argument we specify a Tensorboard callback so we can inspect Tensorboard after training. "
   ]
  },
  {
   "cell_type": "markdown",
   "metadata": {},
   "source": [
    "In the cell below, you will train your model. First, define the `steps_per_epoch` then train your model using `.fit()`, saving the model training output to a variable called `history`."
   ]
  },
  {
   "cell_type": "code",
   "execution_count": 13,
   "metadata": {
    "tags": []
   },
   "outputs": [
    {
     "name": "stdout",
     "output_type": "stream",
     "text": [
      "CPU times: user 4 µs, sys: 0 ns, total: 4 µs\n",
      "Wall time: 8.82 µs\n",
      "Epoch 1/50\n",
      "WARNING:tensorflow:Layers in a Sequential model should only have a single input tensor. Received: inputs=OrderedDict([('pickup_longitude', <tf.Tensor 'IteratorGetNext:4' shape=(1000,) dtype=float32>), ('pickup_latitude', <tf.Tensor 'IteratorGetNext:3' shape=(1000,) dtype=float32>), ('dropoff_longitude', <tf.Tensor 'IteratorGetNext:1' shape=(1000,) dtype=float32>), ('dropoff_latitude', <tf.Tensor 'IteratorGetNext:0' shape=(1000,) dtype=float32>), ('passenger_count', <tf.Tensor 'IteratorGetNext:2' shape=(1000,) dtype=float32>)]). Consider rewriting this model with the Functional API.\n",
      "WARNING:tensorflow:Layers in a Sequential model should only have a single input tensor. Received: inputs=OrderedDict([('pickup_longitude', <tf.Tensor 'IteratorGetNext:4' shape=(1000,) dtype=float32>), ('pickup_latitude', <tf.Tensor 'IteratorGetNext:3' shape=(1000,) dtype=float32>), ('dropoff_longitude', <tf.Tensor 'IteratorGetNext:1' shape=(1000,) dtype=float32>), ('dropoff_latitude', <tf.Tensor 'IteratorGetNext:0' shape=(1000,) dtype=float32>), ('passenger_count', <tf.Tensor 'IteratorGetNext:2' shape=(1000,) dtype=float32>)]). Consider rewriting this model with the Functional API.\n"
     ]
    },
    {
     "name": "stderr",
     "output_type": "stream",
     "text": [
      "2025-02-10 12:12:47.672943: I tensorflow/core/kernels/data/shuffle_dataset_op.cc:392] Filling up shuffle buffer (this may take a while): 467 of 1000\n",
      "2025-02-10 12:12:57.679491: I tensorflow/core/kernels/data/shuffle_dataset_op.cc:392] Filling up shuffle buffer (this may take a while): 923 of 1000\n"
     ]
    },
    {
     "name": "stdout",
     "output_type": "stream",
     "text": [
      "1/1 [==============================] - ETA: 0s - loss: 97.5614 - rmse: 9.8773 - mse: 97.5614"
     ]
    },
    {
     "name": "stderr",
     "output_type": "stream",
     "text": [
      "2025-02-10 12:12:59.290222: I tensorflow/core/kernels/data/shuffle_dataset_op.cc:417] Shuffle buffer filled.\n"
     ]
    },
    {
     "name": "stdout",
     "output_type": "stream",
     "text": [
      "WARNING:tensorflow:Layers in a Sequential model should only have a single input tensor. Received: inputs=OrderedDict([('pickup_longitude', <tf.Tensor 'IteratorGetNext:4' shape=(1000,) dtype=float32>), ('pickup_latitude', <tf.Tensor 'IteratorGetNext:3' shape=(1000,) dtype=float32>), ('dropoff_longitude', <tf.Tensor 'IteratorGetNext:1' shape=(1000,) dtype=float32>), ('dropoff_latitude', <tf.Tensor 'IteratorGetNext:0' shape=(1000,) dtype=float32>), ('passenger_count', <tf.Tensor 'IteratorGetNext:2' shape=(1000,) dtype=float32>)]). Consider rewriting this model with the Functional API.\n",
      "1/1 [==============================] - 24s 24s/step - loss: 97.5614 - rmse: 9.8773 - mse: 97.5614 - val_loss: 116.5499 - val_rmse: 10.7907 - val_mse: 116.5499\n",
      "Epoch 2/50\n",
      "1/1 [==============================] - 0s 312ms/step - loss: 97.0009 - rmse: 9.8489 - mse: 97.0009 - val_loss: 112.5839 - val_rmse: 10.5971 - val_mse: 112.5839\n",
      "Epoch 3/50\n",
      "1/1 [==============================] - 0s 350ms/step - loss: 90.1590 - rmse: 9.4952 - mse: 90.1590 - val_loss: 111.1810 - val_rmse: 10.5364 - val_mse: 111.1810\n",
      "Epoch 4/50\n",
      "1/1 [==============================] - 0s 371ms/step - loss: 98.3981 - rmse: 9.9196 - mse: 98.3981 - val_loss: 108.3032 - val_rmse: 10.3939 - val_mse: 108.3032\n",
      "Epoch 5/50\n",
      "1/1 [==============================] - 0s 374ms/step - loss: 82.3550 - rmse: 9.0750 - mse: 82.3550 - val_loss: 111.9403 - val_rmse: 10.5620 - val_mse: 111.9403\n",
      "Epoch 6/50\n",
      "1/1 [==============================] - 0s 396ms/step - loss: 79.9161 - rmse: 8.9396 - mse: 79.9161 - val_loss: 114.4882 - val_rmse: 10.6921 - val_mse: 114.4882\n",
      "Epoch 7/50\n",
      "1/1 [==============================] - 1s 700ms/step - loss: 91.0426 - rmse: 9.5416 - mse: 91.0426 - val_loss: 113.8181 - val_rmse: 10.6642 - val_mse: 113.8181\n",
      "Epoch 8/50\n",
      "1/1 [==============================] - 0s 413ms/step - loss: 101.4592 - rmse: 10.0727 - mse: 101.4592 - val_loss: 115.0554 - val_rmse: 10.7222 - val_mse: 115.0554\n",
      "Epoch 9/50\n",
      "1/1 [==============================] - 0s 444ms/step - loss: 99.2894 - rmse: 9.9644 - mse: 99.2894 - val_loss: 116.9380 - val_rmse: 10.7777 - val_mse: 116.9380\n",
      "Epoch 10/50\n",
      "1/1 [==============================] - 1s 710ms/step - loss: 99.9891 - rmse: 9.9995 - mse: 99.9891 - val_loss: 115.2137 - val_rmse: 10.7229 - val_mse: 115.2137\n",
      "Epoch 11/50\n",
      "1/1 [==============================] - 0s 419ms/step - loss: 102.6218 - rmse: 10.1302 - mse: 102.6218 - val_loss: 112.8931 - val_rmse: 10.6158 - val_mse: 112.8931\n",
      "Epoch 12/50\n",
      "1/1 [==============================] - 0s 466ms/step - loss: 116.9427 - rmse: 10.8140 - mse: 116.9427 - val_loss: 112.4081 - val_rmse: 10.5944 - val_mse: 112.4081\n",
      "Epoch 13/50\n",
      "1/1 [==============================] - 0s 461ms/step - loss: 75.4852 - rmse: 8.6882 - mse: 75.4852 - val_loss: 111.6830 - val_rmse: 10.5538 - val_mse: 111.6830\n",
      "Epoch 14/50\n",
      "1/1 [==============================] - 0s 422ms/step - loss: 107.4285 - rmse: 10.3648 - mse: 107.4285 - val_loss: 112.5235 - val_rmse: 10.5988 - val_mse: 112.5235\n",
      "Epoch 15/50\n",
      "1/1 [==============================] - 0s 396ms/step - loss: 148.3248 - rmse: 12.1789 - mse: 148.3248 - val_loss: 111.4686 - val_rmse: 10.5371 - val_mse: 111.4686\n",
      "Epoch 16/50\n",
      "1/1 [==============================] - 0s 338ms/step - loss: 97.1640 - rmse: 9.8572 - mse: 97.1640 - val_loss: 112.2145 - val_rmse: 10.5764 - val_mse: 112.2145\n",
      "Epoch 17/50\n",
      "1/1 [==============================] - 0s 424ms/step - loss: 91.4244 - rmse: 9.5616 - mse: 91.4244 - val_loss: 109.9185 - val_rmse: 10.4684 - val_mse: 109.9185\n",
      "Epoch 18/50\n",
      "1/1 [==============================] - 0s 374ms/step - loss: 81.2361 - rmse: 9.0131 - mse: 81.2361 - val_loss: 109.6956 - val_rmse: 10.4656 - val_mse: 109.6956\n",
      "Epoch 19/50\n",
      "1/1 [==============================] - 0s 329ms/step - loss: 117.7804 - rmse: 10.8527 - mse: 117.7804 - val_loss: 108.9724 - val_rmse: 10.4223 - val_mse: 108.9724\n",
      "Epoch 20/50\n",
      "1/1 [==============================] - 0s 334ms/step - loss: 124.4991 - rmse: 11.1579 - mse: 124.4991 - val_loss: 110.3546 - val_rmse: 10.4931 - val_mse: 110.3546\n",
      "Epoch 21/50\n",
      "1/1 [==============================] - 0s 370ms/step - loss: 91.4890 - rmse: 9.5650 - mse: 91.4890 - val_loss: 109.4335 - val_rmse: 10.4481 - val_mse: 109.4335\n",
      "Epoch 22/50\n",
      "1/1 [==============================] - 0s 347ms/step - loss: 93.3090 - rmse: 9.6597 - mse: 93.3090 - val_loss: 109.9435 - val_rmse: 10.4766 - val_mse: 109.9435\n",
      "Epoch 23/50\n",
      "1/1 [==============================] - 0s 344ms/step - loss: 71.4482 - rmse: 8.4527 - mse: 71.4482 - val_loss: 110.1906 - val_rmse: 10.4883 - val_mse: 110.1906\n",
      "Epoch 24/50\n",
      "1/1 [==============================] - 0s 360ms/step - loss: 89.9839 - rmse: 9.4860 - mse: 89.9839 - val_loss: 109.3224 - val_rmse: 10.4400 - val_mse: 109.3224\n",
      "Epoch 25/50\n",
      "1/1 [==============================] - 0s 369ms/step - loss: 88.0797 - rmse: 9.3851 - mse: 88.0797 - val_loss: 110.8858 - val_rmse: 10.5232 - val_mse: 110.8858\n",
      "Epoch 26/50\n",
      "1/1 [==============================] - 0s 348ms/step - loss: 106.2077 - rmse: 10.3057 - mse: 106.2077 - val_loss: 110.0933 - val_rmse: 10.4633 - val_mse: 110.0933\n",
      "Epoch 27/50\n",
      "1/1 [==============================] - 0s 335ms/step - loss: 81.8746 - rmse: 9.0485 - mse: 81.8746 - val_loss: 110.6547 - val_rmse: 10.5122 - val_mse: 110.6547\n",
      "Epoch 28/50\n",
      "1/1 [==============================] - 0s 364ms/step - loss: 92.9591 - rmse: 9.6415 - mse: 92.9591 - val_loss: 110.6422 - val_rmse: 10.4905 - val_mse: 110.6422\n",
      "Epoch 29/50\n",
      "1/1 [==============================] - 0s 377ms/step - loss: 69.8035 - rmse: 8.3548 - mse: 69.8035 - val_loss: 110.8260 - val_rmse: 10.5161 - val_mse: 110.8260\n",
      "Epoch 30/50\n",
      "1/1 [==============================] - 0s 384ms/step - loss: 128.8679 - rmse: 11.3520 - mse: 128.8679 - val_loss: 109.3817 - val_rmse: 10.4457 - val_mse: 109.3817\n",
      "Epoch 31/50\n",
      "1/1 [==============================] - 0s 353ms/step - loss: 95.2382 - rmse: 9.7590 - mse: 95.2382 - val_loss: 109.0886 - val_rmse: 10.4315 - val_mse: 109.0886\n",
      "Epoch 32/50\n",
      "1/1 [==============================] - 0s 382ms/step - loss: 95.8374 - rmse: 9.7897 - mse: 95.8374 - val_loss: 112.0027 - val_rmse: 10.5771 - val_mse: 112.0027\n",
      "Epoch 33/50\n",
      "1/1 [==============================] - 0s 356ms/step - loss: 118.2289 - rmse: 10.8733 - mse: 118.2289 - val_loss: 111.6713 - val_rmse: 10.5562 - val_mse: 111.6713\n",
      "Epoch 34/50\n",
      "1/1 [==============================] - 0s 377ms/step - loss: 72.0040 - rmse: 8.4855 - mse: 72.0040 - val_loss: 111.6395 - val_rmse: 10.5355 - val_mse: 111.6395\n",
      "Epoch 35/50\n",
      "1/1 [==============================] - 0s 355ms/step - loss: 85.6431 - rmse: 9.2544 - mse: 85.6431 - val_loss: 112.8011 - val_rmse: 10.6116 - val_mse: 112.8011\n",
      "Epoch 36/50\n",
      "1/1 [==============================] - 0s 349ms/step - loss: 78.6643 - rmse: 8.8693 - mse: 78.6643 - val_loss: 111.4220 - val_rmse: 10.5446 - val_mse: 111.4220\n",
      "Epoch 37/50\n",
      "1/1 [==============================] - 0s 360ms/step - loss: 103.0740 - rmse: 10.1525 - mse: 103.0740 - val_loss: 110.6728 - val_rmse: 10.5098 - val_mse: 110.6728\n",
      "Epoch 38/50\n",
      "1/1 [==============================] - 0s 348ms/step - loss: 122.8915 - rmse: 11.0856 - mse: 122.8915 - val_loss: 110.3639 - val_rmse: 10.5028 - val_mse: 110.3639\n",
      "Epoch 39/50\n",
      "1/1 [==============================] - 0s 330ms/step - loss: 84.7282 - rmse: 9.2048 - mse: 84.7282 - val_loss: 110.9088 - val_rmse: 10.5161 - val_mse: 110.9088\n",
      "Epoch 40/50\n",
      "1/1 [==============================] - 0s 363ms/step - loss: 97.1218 - rmse: 9.8550 - mse: 97.1218 - val_loss: 111.2760 - val_rmse: 10.5364 - val_mse: 111.2760\n",
      "Epoch 41/50\n",
      "1/1 [==============================] - 0s 322ms/step - loss: 106.9563 - rmse: 10.3420 - mse: 106.9563 - val_loss: 109.5853 - val_rmse: 10.4531 - val_mse: 109.5853\n",
      "Epoch 42/50\n",
      "1/1 [==============================] - 0s 353ms/step - loss: 89.2550 - rmse: 9.4475 - mse: 89.2550 - val_loss: 110.4897 - val_rmse: 10.4997 - val_mse: 110.4897\n",
      "Epoch 43/50\n",
      "1/1 [==============================] - 0s 384ms/step - loss: 108.0719 - rmse: 10.3958 - mse: 108.0719 - val_loss: 111.1620 - val_rmse: 10.5348 - val_mse: 111.1620\n",
      "Epoch 44/50\n",
      "1/1 [==============================] - 0s 317ms/step - loss: 126.8236 - rmse: 11.2616 - mse: 126.8236 - val_loss: 107.9042 - val_rmse: 10.3763 - val_mse: 107.9042\n",
      "Epoch 45/50\n",
      "1/1 [==============================] - 0s 344ms/step - loss: 91.9807 - rmse: 9.5907 - mse: 91.9807 - val_loss: 109.6917 - val_rmse: 10.4600 - val_mse: 109.6917\n",
      "Epoch 46/50\n",
      "1/1 [==============================] - 0s 347ms/step - loss: 102.4931 - rmse: 10.1239 - mse: 102.4931 - val_loss: 111.8271 - val_rmse: 10.5534 - val_mse: 111.8271\n",
      "Epoch 47/50\n",
      "1/1 [==============================] - 0s 403ms/step - loss: 106.5148 - rmse: 10.3206 - mse: 106.5148 - val_loss: 109.9072 - val_rmse: 10.4592 - val_mse: 109.9072\n",
      "Epoch 48/50\n",
      "1/1 [==============================] - 0s 352ms/step - loss: 126.0506 - rmse: 11.2272 - mse: 126.0506 - val_loss: 108.4219 - val_rmse: 10.3694 - val_mse: 108.4219\n",
      "Epoch 49/50\n",
      "1/1 [==============================] - 0s 351ms/step - loss: 76.7532 - rmse: 8.7609 - mse: 76.7532 - val_loss: 109.5154 - val_rmse: 10.4595 - val_mse: 109.5154\n",
      "Epoch 50/50\n",
      "1/1 [==============================] - 0s 402ms/step - loss: 105.2970 - rmse: 10.2614 - mse: 105.2970 - val_loss: 108.5790 - val_rmse: 10.3952 - val_mse: 108.5790\n"
     ]
    }
   ],
   "source": [
    "%time\n",
    "steps_per_epoch = NUM_TRAIN_EXAMPLES // (TRAIN_BATCH_SIZE * NUM_EVALS)\n",
    "\n",
    "LOGDIR = \"./taxi_trained\"\n",
    "history = model.fit(\n",
    "    x=trainds,\n",
    "    steps_per_epoch=steps_per_epoch,\n",
    "    epochs=NUM_EVALS,\n",
    "    validation_data=evalds,\n",
    "    callbacks=[TensorBoard(LOGDIR)],\n",
    ")"
   ]
  },
  {
   "cell_type": "markdown",
   "metadata": {},
   "source": [
    "### High-level model evaluation"
   ]
  },
  {
   "cell_type": "markdown",
   "metadata": {},
   "source": [
    "Once we've run data through the model, we can call `.summary()` on the model to get a high-level summary of our network. We can also plot the training and evaluation curves for the metrics we computed above. "
   ]
  },
  {
   "cell_type": "code",
   "execution_count": 15,
   "metadata": {
    "tags": []
   },
   "outputs": [
    {
     "name": "stdout",
     "output_type": "stream",
     "text": [
      "Model: \"sequential\"\n",
      "_________________________________________________________________\n",
      " Layer (type)                Output Shape              Param #   \n",
      "=================================================================\n",
      " dense_features (DenseFeatur  multiple                 0         \n",
      " es)                                                             \n",
      "                                                                 \n",
      " h1 (Dense)                  multiple                  192       \n",
      "                                                                 \n",
      " h2 (Dense)                  multiple                  264       \n",
      "                                                                 \n",
      " output (Dense)              multiple                  9         \n",
      "                                                                 \n",
      "=================================================================\n",
      "Total params: 465\n",
      "Trainable params: 465\n",
      "Non-trainable params: 0\n",
      "_________________________________________________________________\n"
     ]
    }
   ],
   "source": [
    "model.summary()"
   ]
  },
  {
   "cell_type": "markdown",
   "metadata": {},
   "source": [
    "Running `.fit` (or `.fit_generator`) returns a History object which collects all the events recorded during training. Similar to Tensorboard, we can plot the training and validation curves for the model loss and rmse by accessing these elements of the History object."
   ]
  },
  {
   "cell_type": "code",
   "execution_count": 16,
   "metadata": {
    "tags": []
   },
   "outputs": [
    {
     "data": {
      "text/plain": [
       "<Axes: >"
      ]
     },
     "execution_count": 16,
     "metadata": {},
     "output_type": "execute_result"
    },
    {
     "data": {
      "image/png": "[encoded data removed]",
      "text/plain": [
       "<Figure size 640x480 with 1 Axes>"
      ]
     },
     "metadata": {},
     "output_type": "display_data"
    }
   ],
   "source": [
    "RMSE_COLS = [\"rmse\", \"val_rmse\"]\n",
    "\n",
    "pd.DataFrame(history.history)[RMSE_COLS].plot()"
   ]
  },
  {
   "cell_type": "code",
   "execution_count": 17,
   "metadata": {
    "tags": []
   },
   "outputs": [
    {
     "data": {
      "text/plain": [
       "<Axes: >"
      ]
     },
     "execution_count": 17,
     "metadata": {},
     "output_type": "execute_result"
    },
    {
     "data": {
      "image/png": "[encoded data removed]",
      "text/plain": [
       "<Figure size 640x480 with 1 Axes>"
      ]
     },
     "metadata": {},
     "output_type": "display_data"
    }
   ],
   "source": [
    "LOSS_COLS = [\"loss\", \"val_loss\"]\n",
    "\n",
    "pd.DataFrame(history.history)[LOSS_COLS].plot()"
   ]
  },
  {
   "cell_type": "markdown",
   "metadata": {},
   "source": [
    "# Making predictions with our model"
   ]
  },
  {
   "cell_type": "markdown",
   "metadata": {},
   "source": [
    "To make predictions with our trained model, we can call the [predict method](https://www.tensorflow.org/api_docs/python/tf/keras/Model#predict), passing to it a dictionary of values. The `steps` parameter determines the total number of steps before declaring the prediction round finished. Here since we have just one example, we set `steps=1` (setting `steps=None` would also work). Note, however, that if x is a `tf.data` dataset or a dataset iterator, and steps is set to None, predict will run until the input dataset is exhausted."
   ]
  },
  {
   "cell_type": "code",
   "execution_count": 18,
   "metadata": {
    "tags": []
   },
   "outputs": [
    {
     "name": "stdout",
     "output_type": "stream",
     "text": [
      "WARNING:tensorflow:Layers in a Sequential model should only have a single input tensor. Received: inputs={'pickup_longitude': <tf.Tensor 'IteratorGetNext:4' shape=(1,) dtype=float32>, 'pickup_latitude': <tf.Tensor 'IteratorGetNext:3' shape=(1,) dtype=float32>, 'dropoff_longitude': <tf.Tensor 'IteratorGetNext:1' shape=(1,) dtype=float32>, 'dropoff_latitude': <tf.Tensor 'IteratorGetNext:0' shape=(1,) dtype=float32>, 'passenger_count': <tf.Tensor 'IteratorGetNext:2' shape=(1,) dtype=float32>}. Consider rewriting this model with the Functional API.\n",
      "1/1 [==============================] - 0s 152ms/step\n"
     ]
    },
    {
     "data": {
      "text/plain": [
       "array([[11.7142725]], dtype=float32)"
      ]
     },
     "execution_count": 18,
     "metadata": {},
     "output_type": "execute_result"
    }
   ],
   "source": [
    "model.predict(\n",
    "    x={\n",
    "        \"pickup_longitude\": tf.convert_to_tensor([-73.982683]),\n",
    "        \"pickup_latitude\": tf.convert_to_tensor([40.742104]),\n",
    "        \"dropoff_longitude\": tf.convert_to_tensor([-73.983766]),\n",
    "        \"dropoff_latitude\": tf.convert_to_tensor([40.755174]),\n",
    "        \"passenger_count\": tf.convert_to_tensor([3.0]),\n",
    "    },\n",
    "    steps=1,\n",
    ")"
   ]
  },
  {
   "cell_type": "markdown",
   "metadata": {},
   "source": [
    "# Export and deploy our model"
   ]
  },
  {
   "cell_type": "markdown",
   "metadata": {},
   "source": [
    "Of course, making individual predictions is not realistic, because we can't expect client code to have a model object in memory. For others to use our trained model, we'll have to export our model to a file, and expect client code to instantiate the model from that exported file. \n",
    "\n",
    "We'll export the model to a TensorFlow SavedModel format. Once we have a model in this format, we have lots of ways to \"serve\" the model, from a web application, from JavaScript, from mobile applications, etc."
   ]
  },
  {
   "cell_type": "code",
   "execution_count": 19,
   "metadata": {
    "tags": []
   },
   "outputs": [
    {
     "name": "stdout",
     "output_type": "stream",
     "text": [
      "WARNING:tensorflow:Layers in a Sequential model should only have a single input tensor. Received: inputs=OrderedDict([('pickup_longitude', <tf.Tensor 'pickup_longitude:0' shape=(None,) dtype=float32>), ('pickup_latitude', <tf.Tensor 'pickup_latitude:0' shape=(None,) dtype=float32>), ('dropoff_longitude', <tf.Tensor 'dropoff_longitude:0' shape=(None,) dtype=float32>), ('dropoff_latitude', <tf.Tensor 'dropoff_latitude:0' shape=(None,) dtype=float32>), ('passenger_count', <tf.Tensor 'passenger_count:0' shape=(None,) dtype=float32>)]). Consider rewriting this model with the Functional API.\n",
      "WARNING:tensorflow:Layers in a Sequential model should only have a single input tensor. Received: inputs=OrderedDict([('pickup_longitude', <tf.Tensor 'inputs_4:0' shape=(None,) dtype=float32>), ('pickup_latitude', <tf.Tensor 'inputs_3:0' shape=(None,) dtype=float32>), ('dropoff_longitude', <tf.Tensor 'inputs_1:0' shape=(None,) dtype=float32>), ('dropoff_latitude', <tf.Tensor 'inputs:0' shape=(None,) dtype=float32>), ('passenger_count', <tf.Tensor 'inputs_2:0' shape=(None,) dtype=float32>)]). Consider rewriting this model with the Functional API.\n",
      "WARNING:tensorflow:Layers in a Sequential model should only have a single input tensor. Received: inputs=OrderedDict([('pickup_longitude', <tf.Tensor 'inputs_4:0' shape=(None,) dtype=float32>), ('pickup_latitude', <tf.Tensor 'inputs_3:0' shape=(None,) dtype=float32>), ('dropoff_longitude', <tf.Tensor 'inputs_1:0' shape=(None,) dtype=float32>), ('dropoff_latitude', <tf.Tensor 'inputs:0' shape=(None,) dtype=float32>), ('passenger_count', <tf.Tensor 'inputs_2:0' shape=(None,) dtype=float32>)]). Consider rewriting this model with the Functional API.\n",
      "WARNING:tensorflow:Layers in a Sequential model should only have a single input tensor. Received: inputs=OrderedDict([('pickup_longitude', <tf.Tensor 'pickup_longitude:0' shape=(None,) dtype=float32>), ('pickup_latitude', <tf.Tensor 'pickup_latitude:0' shape=(None,) dtype=float32>), ('dropoff_longitude', <tf.Tensor 'dropoff_longitude:0' shape=(None,) dtype=float32>), ('dropoff_latitude', <tf.Tensor 'dropoff_latitude:0' shape=(None,) dtype=float32>), ('passenger_count', <tf.Tensor 'passenger_count:0' shape=(None,) dtype=float32>)]). Consider rewriting this model with the Functional API.\n",
      "WARNING:tensorflow:Layers in a Sequential model should only have a single input tensor. Received: inputs=OrderedDict([('pickup_longitude', <tf.Tensor 'pickup_longitude:0' shape=(None,) dtype=float32>), ('pickup_latitude', <tf.Tensor 'pickup_latitude:0' shape=(None,) dtype=float32>), ('dropoff_longitude', <tf.Tensor 'dropoff_longitude:0' shape=(None,) dtype=float32>), ('dropoff_latitude', <tf.Tensor 'dropoff_latitude:0' shape=(None,) dtype=float32>), ('passenger_count', <tf.Tensor 'passenger_count:0' shape=(None,) dtype=float32>)]). Consider rewriting this model with the Functional API.\n",
      "WARNING:tensorflow:Layers in a Sequential model should only have a single input tensor. Received: inputs=OrderedDict([('pickup_longitude', <tf.Tensor 'inputs_pickup_longitude:0' shape=(None,) dtype=float32>), ('pickup_latitude', <tf.Tensor 'inputs_pickup_latitude:0' shape=(None,) dtype=float32>), ('dropoff_longitude', <tf.Tensor 'inputs_dropoff_longitude:0' shape=(None,) dtype=float32>), ('dropoff_latitude', <tf.Tensor 'inputs_dropoff_latitude:0' shape=(None,) dtype=float32>), ('passenger_count', <tf.Tensor 'inputs_passenger_count:0' shape=(None,) dtype=float32>)]). Consider rewriting this model with the Functional API.\n",
      "WARNING:tensorflow:Layers in a Sequential model should only have a single input tensor. Received: inputs=OrderedDict([('pickup_longitude', <tf.Tensor 'inputs_pickup_longitude:0' shape=(None,) dtype=float32>), ('pickup_latitude', <tf.Tensor 'inputs_pickup_latitude:0' shape=(None,) dtype=float32>), ('dropoff_longitude', <tf.Tensor 'inputs_dropoff_longitude:0' shape=(None,) dtype=float32>), ('dropoff_latitude', <tf.Tensor 'inputs_dropoff_latitude:0' shape=(None,) dtype=float32>), ('passenger_count', <tf.Tensor 'inputs_passenger_count:0' shape=(None,) dtype=float32>)]). Consider rewriting this model with the Functional API.\n"
     ]
    },
    {
     "name": "stderr",
     "output_type": "stream",
     "text": [
      "WARNING:absl:Found untraced functions such as _update_step_xla while saving (showing 1 of 1). These functions will not be directly callable after loading.\n"
     ]
    },
    {
     "name": "stdout",
     "output_type": "stream",
     "text": [
      "INFO:tensorflow:Assets written to: ./export/savedmodel/20250210121449/assets\n"
     ]
    },
    {
     "name": "stderr",
     "output_type": "stream",
     "text": [
      "INFO:tensorflow:Assets written to: ./export/savedmodel/20250210121449/assets\n"
     ]
    }
   ],
   "source": [
    "OUTPUT_DIR = \"./export/savedmodel\"\n",
    "shutil.rmtree(OUTPUT_DIR, ignore_errors=True)\n",
    "TIMESTAMP = datetime.datetime.now().strftime(\"%Y%m%d%H%M%S\")\n",
    "\n",
    "EXPORT_PATH = os.path.join(OUTPUT_DIR, TIMESTAMP)\n",
    "\n",
    "tf.saved_model.save(model, EXPORT_PATH)  # with default serving function"
   ]
  },
  {
   "cell_type": "code",
   "execution_count": 20,
   "metadata": {
    "tags": [
     "flake8-noqa-cell"
    ]
   },
   "outputs": [
    {
     "name": "stdout",
     "output_type": "stream",
     "text": [
      "2025-02-10 12:15:01.702521: I tensorflow/core/platform/cpu_feature_guard.cc:193] This TensorFlow binary is optimized with oneAPI Deep Neural Network Library (oneDNN) to use the following CPU instructions in performance-critical operations:  AVX2 FMA\n",
      "To enable them in other operations, rebuild TensorFlow with the appropriate compiler flags.\n",
      "2025-02-10 12:15:03.049447: W tensorflow/compiler/xla/stream_executor/platform/default/dso_loader.cc:64] Could not load dynamic library 'libnvinfer.so.7'; dlerror: libnvinfer.so.7: cannot open shared object file: No such file or directory; LD_LIBRARY_PATH: /usr/local/cuda/lib64:/usr/local/nccl2/lib:/usr/local/cuda/extras/CUPTI/lib64:/usr/lib/x86_64-linux-gnu/:/opt/conda/lib\n",
      "2025-02-10 12:15:03.049597: W tensorflow/compiler/xla/stream_executor/platform/default/dso_loader.cc:64] Could not load dynamic library 'libnvinfer_plugin.so.7'; dlerror: libnvinfer_plugin.so.7: cannot open shared object file: No such file or directory; LD_LIBRARY_PATH: /usr/local/cuda/lib64:/usr/local/nccl2/lib:/usr/local/cuda/extras/CUPTI/lib64:/usr/lib/x86_64-linux-gnu/:/opt/conda/lib\n",
      "2025-02-10 12:15:03.049628: W tensorflow/compiler/tf2tensorrt/utils/py_utils.cc:38] TF-TRT Warning: Cannot dlopen some TensorRT libraries. If you would like to use Nvidia GPU with TensorRT, please make sure the missing libraries mentioned above are installed properly.\n",
      "The given SavedModel SignatureDef contains the following input(s):\n",
      "  inputs['dropoff_latitude'] tensor_info:\n",
      "      dtype: DT_FLOAT\n",
      "      shape: (-1)\n",
      "      name: serving_default_dropoff_latitude:0\n",
      "  inputs['dropoff_longitude'] tensor_info:\n",
      "      dtype: DT_FLOAT\n",
      "      shape: (-1)\n",
      "      name: serving_default_dropoff_longitude:0\n",
      "  inputs['passenger_count'] tensor_info:\n",
      "      dtype: DT_FLOAT\n",
      "      shape: (-1)\n",
      "      name: serving_default_passenger_count:0\n",
      "  inputs['pickup_latitude'] tensor_info:\n",
      "      dtype: DT_FLOAT\n",
      "      shape: (-1)\n",
      "      name: serving_default_pickup_latitude:0\n",
      "  inputs['pickup_longitude'] tensor_info:\n",
      "      dtype: DT_FLOAT\n",
      "      shape: (-1)\n",
      "      name: serving_default_pickup_longitude:0\n",
      "The given SavedModel SignatureDef contains the following output(s):\n",
      "  outputs['output_1'] tensor_info:\n",
      "      dtype: DT_FLOAT\n",
      "      shape: (-1, 1)\n",
      "      name: StatefulPartitionedCall:0\n",
      "Method name is: tensorflow/serving/predict\n",
      "./export/savedmodel/20250210121449\n",
      "./export/savedmodel/20250210121449/variables\n",
      "./export/savedmodel/20250210121449/variables/variables.data-00000-of-00001\n",
      "./export/savedmodel/20250210121449/variables/variables.index\n",
      "./export/savedmodel/20250210121449/assets\n",
      "./export/savedmodel/20250210121449/fingerprint.pb\n",
      "./export/savedmodel/20250210121449/saved_model.pb\n"
     ]
    }
   ],
   "source": [
    "!saved_model_cli show \\\n",
    "    --tag_set serve \\\n",
    "    --signature_def serving_default \\\n",
    "    --dir {EXPORT_PATH}\n",
    "\n",
    "!find {EXPORT_PATH}\n",
    "os.environ['EXPORT_PATH'] = EXPORT_PATH"
   ]
  }
 ],
 "metadata": {
  "environment": {
   "kernel": "conda-env-tensorflow-tensorflow",
   "name": "workbench-notebooks.m127",
   "type": "gcloud",
   "uri": "us-docker.pkg.dev/deeplearning-platform-release/gcr.io/workbench-notebooks:m127"
  },
  "kernelspec": {
   "display_name": "pydantic",
   "language": "python",
   "name": "python3"
  },
  "language_info": {
   "codemirror_mode": {
    "name": "ipython",
    "version": 3
   },
   "file_extension": ".py",
   "mimetype": "text/x-python",
   "name": "python",
   "nbconvert_exporter": "python",
   "pygments_lexer": "ipython3",
   "version": "3.11.9"
  },
  "toc-autonumbering": true,
  "toc-showmarkdowntxt": false
 },
 "nbformat": 4,
 "nbformat_minor": 4
}
